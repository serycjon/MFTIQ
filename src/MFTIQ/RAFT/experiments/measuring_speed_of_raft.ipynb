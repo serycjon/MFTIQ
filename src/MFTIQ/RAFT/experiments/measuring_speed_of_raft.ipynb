{
 "cells": [
  {
   "cell_type": "code",
   "execution_count": null,
   "metadata": {
    "collapsed": true
   },
   "outputs": [],
   "source": []
  },
  {
   "cell_type": "code",
   "execution_count": 10,
   "outputs": [],
   "source": [
    "from __future__ import print_function, division\n",
    "import sys, os\n",
    "from RAFT.core.raft import RAFT\n",
    "import tqdm\n",
    "\n",
    "# sys.path.append('core')\n",
    "\n",
    "import argparse\n",
    "import os\n",
    "import numpy as np\n",
    "\n",
    "import torch\n",
    "import torch.nn as nn\n",
    "import torch.optim as optim\n",
    "\n",
    "from RAFT.core.datasets import MpiSintel, KubricDataset\n",
    "from RAFT.core.utils import flow_viz\n",
    "from RAFT.core.utils.utils import InputPadder\n",
    "from RAFT.core.utils.flow_viz import flow_to_color\n",
    "import einops\n",
    "\n",
    "import cv2\n",
    "import matplotlib.pyplot as plt\n",
    "from skimage.metrics import structural_similarity as ssim\n",
    "from matplotlib import gridspec\n",
    "import scipy\n",
    "import seaborn as sns\n",
    "import pandas as pd\n",
    "import time\n",
    "\n",
    "\n",
    "os.chdir('/mnt/datagrid/personal/neoral/repos/raft_new_debug/RAFT/')"
   ],
   "metadata": {
    "collapsed": false
   }
  },
  {
   "cell_type": "code",
   "execution_count": 2,
   "outputs": [
    {
     "name": "stdout",
     "output_type": "stream",
     "text": [
      "boruvka\n"
     ]
    }
   ],
   "source": [
    "myhost = os.uname()[1]\n",
    "print(myhost)"
   ],
   "metadata": {
    "collapsed": false
   }
  },
  {
   "cell_type": "code",
   "execution_count": 3,
   "outputs": [],
   "source": [
    "def mkdir_if_not_exist(path):\n",
    "    if not os.path.isdir(path):\n",
    "        os.makedirs(path)\n",
    "\n",
    "def mkdir_from_full_file_path_if_not_exist(path):\n",
    "    basename = os.path.basename(path)\n",
    "    mkdir_if_not_exist(path[:-len(basename)])\n",
    "\n",
    "class AttrDict(dict):\n",
    "    def __init__(self, *args, **kwargs):\n",
    "        super(AttrDict, self).__init__(*args, **kwargs)\n",
    "        self.__dict__.update(kwargs)"
   ],
   "metadata": {
    "collapsed": false
   }
  },
  {
   "cell_type": "code",
   "execution_count": 4,
   "outputs": [],
   "source": [
    "default_kwargs = {\n",
    "    'model': '/home.stud/neoramic/repos/raft_new_debug/RAFT/checkpoints/50000_raft-things-sintel-splitted-occlusion-uncertainty-base-sintel.pth',\n",
    "    'save_path': '/datagrid/personal/neoral/RAFT_occl_uncertainty_outputs/statistics_occl',\n",
    "    'iters': 12,\n",
    "    'gpus': 0,\n",
    "    'debug': True,\n",
    "    'subsplit': 'validation'\n",
    "}\n",
    "args = AttrDict(**default_kwargs)"
   ],
   "metadata": {
    "collapsed": false
   }
  },
  {
   "cell_type": "code",
   "execution_count": 5,
   "outputs": [
    {
     "data": {
      "text/plain": "RAFT(\n  (fnet): BasicEncoder(\n    (norm1): InstanceNorm2d(64, eps=1e-05, momentum=0.1, affine=False, track_running_stats=False)\n    (conv1): Conv2d(3, 64, kernel_size=(7, 7), stride=(2, 2), padding=(3, 3))\n    (relu1): ReLU(inplace=True)\n    (layer1): Sequential(\n      (0): ResidualBlock(\n        (conv1): Conv2d(64, 64, kernel_size=(3, 3), stride=(1, 1), padding=(1, 1))\n        (conv2): Conv2d(64, 64, kernel_size=(3, 3), stride=(1, 1), padding=(1, 1))\n        (relu): ReLU(inplace=True)\n        (norm1): InstanceNorm2d(64, eps=1e-05, momentum=0.1, affine=False, track_running_stats=False)\n        (norm2): InstanceNorm2d(64, eps=1e-05, momentum=0.1, affine=False, track_running_stats=False)\n      )\n      (1): ResidualBlock(\n        (conv1): Conv2d(64, 64, kernel_size=(3, 3), stride=(1, 1), padding=(1, 1))\n        (conv2): Conv2d(64, 64, kernel_size=(3, 3), stride=(1, 1), padding=(1, 1))\n        (relu): ReLU(inplace=True)\n        (norm1): InstanceNorm2d(64, eps=1e-05, momentum=0.1, affine=False, track_running_stats=False)\n        (norm2): InstanceNorm2d(64, eps=1e-05, momentum=0.1, affine=False, track_running_stats=False)\n      )\n    )\n    (layer2): Sequential(\n      (0): ResidualBlock(\n        (conv1): Conv2d(64, 96, kernel_size=(3, 3), stride=(2, 2), padding=(1, 1))\n        (conv2): Conv2d(96, 96, kernel_size=(3, 3), stride=(1, 1), padding=(1, 1))\n        (relu): ReLU(inplace=True)\n        (norm1): InstanceNorm2d(96, eps=1e-05, momentum=0.1, affine=False, track_running_stats=False)\n        (norm2): InstanceNorm2d(96, eps=1e-05, momentum=0.1, affine=False, track_running_stats=False)\n        (norm3): InstanceNorm2d(96, eps=1e-05, momentum=0.1, affine=False, track_running_stats=False)\n        (downsample): Sequential(\n          (0): Conv2d(64, 96, kernel_size=(1, 1), stride=(2, 2))\n          (1): InstanceNorm2d(96, eps=1e-05, momentum=0.1, affine=False, track_running_stats=False)\n        )\n      )\n      (1): ResidualBlock(\n        (conv1): Conv2d(96, 96, kernel_size=(3, 3), stride=(1, 1), padding=(1, 1))\n        (conv2): Conv2d(96, 96, kernel_size=(3, 3), stride=(1, 1), padding=(1, 1))\n        (relu): ReLU(inplace=True)\n        (norm1): InstanceNorm2d(96, eps=1e-05, momentum=0.1, affine=False, track_running_stats=False)\n        (norm2): InstanceNorm2d(96, eps=1e-05, momentum=0.1, affine=False, track_running_stats=False)\n      )\n    )\n    (layer3): Sequential(\n      (0): ResidualBlock(\n        (conv1): Conv2d(96, 128, kernel_size=(3, 3), stride=(2, 2), padding=(1, 1))\n        (conv2): Conv2d(128, 128, kernel_size=(3, 3), stride=(1, 1), padding=(1, 1))\n        (relu): ReLU(inplace=True)\n        (norm1): InstanceNorm2d(128, eps=1e-05, momentum=0.1, affine=False, track_running_stats=False)\n        (norm2): InstanceNorm2d(128, eps=1e-05, momentum=0.1, affine=False, track_running_stats=False)\n        (norm3): InstanceNorm2d(128, eps=1e-05, momentum=0.1, affine=False, track_running_stats=False)\n        (downsample): Sequential(\n          (0): Conv2d(96, 128, kernel_size=(1, 1), stride=(2, 2))\n          (1): InstanceNorm2d(128, eps=1e-05, momentum=0.1, affine=False, track_running_stats=False)\n        )\n      )\n      (1): ResidualBlock(\n        (conv1): Conv2d(128, 128, kernel_size=(3, 3), stride=(1, 1), padding=(1, 1))\n        (conv2): Conv2d(128, 128, kernel_size=(3, 3), stride=(1, 1), padding=(1, 1))\n        (relu): ReLU(inplace=True)\n        (norm1): InstanceNorm2d(128, eps=1e-05, momentum=0.1, affine=False, track_running_stats=False)\n        (norm2): InstanceNorm2d(128, eps=1e-05, momentum=0.1, affine=False, track_running_stats=False)\n      )\n    )\n    (conv2): Conv2d(128, 256, kernel_size=(1, 1), stride=(1, 1))\n  )\n  (cnet): BasicEncoder(\n    (norm1): BatchNorm2d(64, eps=1e-05, momentum=0.1, affine=True, track_running_stats=True)\n    (conv1): Conv2d(3, 64, kernel_size=(7, 7), stride=(2, 2), padding=(3, 3))\n    (relu1): ReLU(inplace=True)\n    (layer1): Sequential(\n      (0): ResidualBlock(\n        (conv1): Conv2d(64, 64, kernel_size=(3, 3), stride=(1, 1), padding=(1, 1))\n        (conv2): Conv2d(64, 64, kernel_size=(3, 3), stride=(1, 1), padding=(1, 1))\n        (relu): ReLU(inplace=True)\n        (norm1): BatchNorm2d(64, eps=1e-05, momentum=0.1, affine=True, track_running_stats=True)\n        (norm2): BatchNorm2d(64, eps=1e-05, momentum=0.1, affine=True, track_running_stats=True)\n      )\n      (1): ResidualBlock(\n        (conv1): Conv2d(64, 64, kernel_size=(3, 3), stride=(1, 1), padding=(1, 1))\n        (conv2): Conv2d(64, 64, kernel_size=(3, 3), stride=(1, 1), padding=(1, 1))\n        (relu): ReLU(inplace=True)\n        (norm1): BatchNorm2d(64, eps=1e-05, momentum=0.1, affine=True, track_running_stats=True)\n        (norm2): BatchNorm2d(64, eps=1e-05, momentum=0.1, affine=True, track_running_stats=True)\n      )\n    )\n    (layer2): Sequential(\n      (0): ResidualBlock(\n        (conv1): Conv2d(64, 96, kernel_size=(3, 3), stride=(2, 2), padding=(1, 1))\n        (conv2): Conv2d(96, 96, kernel_size=(3, 3), stride=(1, 1), padding=(1, 1))\n        (relu): ReLU(inplace=True)\n        (norm1): BatchNorm2d(96, eps=1e-05, momentum=0.1, affine=True, track_running_stats=True)\n        (norm2): BatchNorm2d(96, eps=1e-05, momentum=0.1, affine=True, track_running_stats=True)\n        (norm3): BatchNorm2d(96, eps=1e-05, momentum=0.1, affine=True, track_running_stats=True)\n        (downsample): Sequential(\n          (0): Conv2d(64, 96, kernel_size=(1, 1), stride=(2, 2))\n          (1): BatchNorm2d(96, eps=1e-05, momentum=0.1, affine=True, track_running_stats=True)\n        )\n      )\n      (1): ResidualBlock(\n        (conv1): Conv2d(96, 96, kernel_size=(3, 3), stride=(1, 1), padding=(1, 1))\n        (conv2): Conv2d(96, 96, kernel_size=(3, 3), stride=(1, 1), padding=(1, 1))\n        (relu): ReLU(inplace=True)\n        (norm1): BatchNorm2d(96, eps=1e-05, momentum=0.1, affine=True, track_running_stats=True)\n        (norm2): BatchNorm2d(96, eps=1e-05, momentum=0.1, affine=True, track_running_stats=True)\n      )\n    )\n    (layer3): Sequential(\n      (0): ResidualBlock(\n        (conv1): Conv2d(96, 128, kernel_size=(3, 3), stride=(2, 2), padding=(1, 1))\n        (conv2): Conv2d(128, 128, kernel_size=(3, 3), stride=(1, 1), padding=(1, 1))\n        (relu): ReLU(inplace=True)\n        (norm1): BatchNorm2d(128, eps=1e-05, momentum=0.1, affine=True, track_running_stats=True)\n        (norm2): BatchNorm2d(128, eps=1e-05, momentum=0.1, affine=True, track_running_stats=True)\n        (norm3): BatchNorm2d(128, eps=1e-05, momentum=0.1, affine=True, track_running_stats=True)\n        (downsample): Sequential(\n          (0): Conv2d(96, 128, kernel_size=(1, 1), stride=(2, 2))\n          (1): BatchNorm2d(128, eps=1e-05, momentum=0.1, affine=True, track_running_stats=True)\n        )\n      )\n      (1): ResidualBlock(\n        (conv1): Conv2d(128, 128, kernel_size=(3, 3), stride=(1, 1), padding=(1, 1))\n        (conv2): Conv2d(128, 128, kernel_size=(3, 3), stride=(1, 1), padding=(1, 1))\n        (relu): ReLU(inplace=True)\n        (norm1): BatchNorm2d(128, eps=1e-05, momentum=0.1, affine=True, track_running_stats=True)\n        (norm2): BatchNorm2d(128, eps=1e-05, momentum=0.1, affine=True, track_running_stats=True)\n      )\n    )\n    (conv2): Conv2d(128, 256, kernel_size=(1, 1), stride=(1, 1))\n  )\n  (update_block): BasicUpdateBlock(\n    (encoder): BasicMotionEncoder(\n      (convc1): Conv2d(324, 256, kernel_size=(1, 1), stride=(1, 1))\n      (convc2): Conv2d(256, 192, kernel_size=(3, 3), stride=(1, 1), padding=(1, 1))\n      (convf1): Conv2d(2, 128, kernel_size=(7, 7), stride=(1, 1), padding=(3, 3))\n      (convf2): Conv2d(128, 64, kernel_size=(3, 3), stride=(1, 1), padding=(1, 1))\n      (conv): Conv2d(256, 126, kernel_size=(3, 3), stride=(1, 1), padding=(1, 1))\n    )\n    (gru): SepConvGRU(\n      (convz1): Conv2d(384, 128, kernel_size=(1, 5), stride=(1, 1), padding=(0, 2))\n      (convr1): Conv2d(384, 128, kernel_size=(1, 5), stride=(1, 1), padding=(0, 2))\n      (convq1): Conv2d(384, 128, kernel_size=(1, 5), stride=(1, 1), padding=(0, 2))\n      (convz2): Conv2d(384, 128, kernel_size=(5, 1), stride=(1, 1), padding=(2, 0))\n      (convr2): Conv2d(384, 128, kernel_size=(5, 1), stride=(1, 1), padding=(2, 0))\n      (convq2): Conv2d(384, 128, kernel_size=(5, 1), stride=(1, 1), padding=(2, 0))\n    )\n    (flow_head): FlowHead(\n      (conv1): Conv2d(128, 256, kernel_size=(3, 3), stride=(1, 1), padding=(1, 1))\n      (conv2): Conv2d(256, 2, kernel_size=(3, 3), stride=(1, 1), padding=(1, 1))\n      (relu): ReLU(inplace=True)\n    )\n    (mask): Sequential(\n      (0): Conv2d(128, 256, kernel_size=(3, 3), stride=(1, 1), padding=(1, 1))\n      (1): ReLU(inplace=True)\n      (2): Conv2d(256, 576, kernel_size=(1, 1), stride=(1, 1))\n    )\n  )\n  (occlusion_block): OcclusionAndUncertaintyBlock(\n    (occl_head): OcclusionHead(\n      (conv1): Conv2d(712, 128, kernel_size=(3, 3), stride=(1, 1), padding=(1, 1))\n      (conv2): Conv2d(128, 2, kernel_size=(3, 3), stride=(1, 1), padding=(1, 1))\n      (relu): ReLU(inplace=True)\n    )\n    (uncertainty_head): UncertaintyHead(\n      (conv1): Conv2d(712, 128, kernel_size=(3, 3), stride=(1, 1), padding=(1, 1))\n      (conv2): Conv2d(128, 1, kernel_size=(3, 3), stride=(1, 1), padding=(1, 1))\n      (relu): ReLU(inplace=True)\n    )\n  )\n)"
     },
     "execution_count": 5,
     "metadata": {},
     "output_type": "execute_result"
    }
   ],
   "source": [
    "device = f'cuda:{args.gpus}'\n",
    "\n",
    "raft_kwargs = {\n",
    "    'occlusion_module': 'separate_with_uncertainty',\n",
    "    'restore_ckpt': args.model,\n",
    "    'small': False,\n",
    "    'mixed_precision': False,\n",
    "}\n",
    "raft_params = AttrDict(**raft_kwargs)\n",
    "\n",
    "# Of course, you can use argparse instead of attr_dict\n",
    "raft = torch.nn.DataParallel(RAFT(raft_params))\n",
    "raft.load_state_dict(torch.load(args.model, map_location='cpu'))\n",
    "\n",
    "raft = raft.module\n",
    "raft.requires_grad_(False)\n",
    "raft.to(device)\n",
    "raft.eval();"
   ],
   "metadata": {
    "collapsed": false
   }
  },
  {
   "cell_type": "code",
   "execution_count": 15,
   "outputs": [],
   "source": [
    "B = 1\n",
    "\n",
    "im1_np = np.zeros((B, 3, 512, 512), np.float32)\n",
    "im2_np = np.zeros((B, 3, 512, 512), np.float32)\n",
    "\n",
    "im1 = torch.from_numpy(im1_np)\n",
    "im2 = torch.from_numpy(im2_np)\n",
    "\n",
    "padder = InputPadder(im1.shape, mode='sintel')\n",
    "im1, im2 = padder.pad(im1, im2)\n",
    "\n",
    "im1 = im1.to(device=device)\n",
    "im2 = im2.to(device=device)\n"
   ],
   "metadata": {
    "collapsed": false
   }
  },
  {
   "cell_type": "code",
   "execution_count": 16,
   "outputs": [
    {
     "name": "stdout",
     "output_type": "stream",
     "text": [
      " 0.5539799690246582 s\n"
     ]
    }
   ],
   "source": [
    "number_of_comp = 100\n",
    "\n",
    "# warm up\n",
    "for i in range(3):\n",
    "    all_predictions = raft(im1.to(device), im2.to(device), iters=args.iters, test_mode=True)\n",
    "\n",
    "st = time.time()\n",
    "for i in range(number_of_comp):\n",
    "    all_predictions = raft(im1.to(device), im2.to(device), iters=args.iters, test_mode=True)\n",
    "en = time.time()\n",
    "\n",
    "mean_elapse_time = (en - st) / number_of_comp\n",
    "print(f'Mean elapsed time {mean_elapse_time}s, for batch size {B} with occl and sigma')"
   ],
   "metadata": {
    "collapsed": false
   }
  },
  {
   "cell_type": "code",
   "execution_count": null,
   "outputs": [],
   "source": [
    "B = 7\n",
    "\n",
    "im1_np = np.zeros((B, 3, 512, 512), np.float32)\n",
    "im2_np = np.zeros((B, 3, 512, 512), np.float32)\n",
    "\n",
    "im1 = torch.from_numpy(im1_np)\n",
    "im2 = torch.from_numpy(im2_np)\n",
    "\n",
    "padder = InputPadder(im1.shape, mode='sintel')\n",
    "im1, im2 = padder.pad(im1, im2)\n",
    "\n",
    "im1 = im1.to(device=device)\n",
    "im2 = im2.to(device=device)"
   ],
   "metadata": {
    "collapsed": false
   }
  },
  {
   "cell_type": "code",
   "execution_count": 13,
   "outputs": [
    {
     "name": "stdout",
     "output_type": "stream",
     "text": [
      "0.12216700553894043\n"
     ]
    }
   ],
   "source": [
    "number_of_comp = 100\n",
    "\n",
    "# warm up\n",
    "for i in range(3):\n",
    "    all_predictions = raft(im1.to(device), im2.to(device), iters=args.iters, test_mode=True)\n",
    "\n",
    "st = time.time()\n",
    "for i in range(number_of_comp):\n",
    "    all_predictions = raft(im1.to(device), im2.to(device), iters=args.iters, test_mode=True)\n",
    "en = time.time()\n",
    "\n",
    "mean_elapse_time = (en - st) / number_of_comp\n",
    "print(f'Mean elapsed time {mean_elapse_time}s, for batch size {B} with occl and sigma')"
   ],
   "metadata": {
    "collapsed": false
   }
  },
  {
   "cell_type": "code",
   "execution_count": 17,
   "outputs": [],
   "source": [
    "default_kwargs = {\n",
    "    'model': '/home.stud/neoramic/repos/raft_new_debug/RAFT/models/raft-sintel.pth',\n",
    "    'save_path': '/datagrid/personal/neoral/RAFT_occl_uncertainty_outputs/statistics_occl',\n",
    "    'iters': 12,\n",
    "    'gpus': 0,\n",
    "    'debug': True,\n",
    "    'subsplit': 'validation'\n",
    "}\n",
    "args = AttrDict(**default_kwargs)"
   ],
   "metadata": {
    "collapsed": false
   }
  },
  {
   "cell_type": "code",
   "execution_count": 20,
   "outputs": [],
   "source": [
    "device = f'cuda:{args.gpus}'\n",
    "\n",
    "raft_kwargs = {\n",
    "    'occlusion_module': None,\n",
    "    'restore_ckpt': args.model,\n",
    "    'small': False,\n",
    "    'mixed_precision': False,\n",
    "}\n",
    "raft_params = AttrDict(**raft_kwargs)\n",
    "\n",
    "# Of course, you can use argparse instead of attr_dict\n",
    "raft = torch.nn.DataParallel(RAFT(raft_params))\n",
    "raft.load_state_dict(torch.load(args.model, map_location='cpu'))\n",
    "\n",
    "raft = raft.module\n",
    "raft.requires_grad_(False)\n",
    "raft.to(device)\n",
    "raft.eval();"
   ],
   "metadata": {
    "collapsed": false
   }
  },
  {
   "cell_type": "code",
   "execution_count": 21,
   "outputs": [
    {
     "name": "stdout",
     "output_type": "stream",
     "text": [
      "Mean elapsed time 0.11844016790390015s, for batch size 1, original raft\n"
     ]
    }
   ],
   "source": [
    "B = 1\n",
    "\n",
    "im1_np = np.zeros((B, 3, 512, 512), np.float32)\n",
    "im2_np = np.zeros((B, 3, 512, 512), np.float32)\n",
    "\n",
    "im1 = torch.from_numpy(im1_np)\n",
    "im2 = torch.from_numpy(im2_np)\n",
    "\n",
    "padder = InputPadder(im1.shape, mode='sintel')\n",
    "im1, im2 = padder.pad(im1, im2)\n",
    "\n",
    "im1 = im1.to(device=device)\n",
    "im2 = im2.to(device=device)\n",
    "\n",
    "number_of_comp = 100\n",
    "\n",
    "# warm up\n",
    "for i in range(3):\n",
    "    all_predictions = raft(im1.to(device), im2.to(device), iters=args.iters, test_mode=True)\n",
    "\n",
    "st = time.time()\n",
    "for i in range(number_of_comp):\n",
    "    all_predictions = raft(im1.to(device), im2.to(device), iters=args.iters, test_mode=True)\n",
    "en = time.time()\n",
    "\n",
    "mean_elapse_time = (en - st) / number_of_comp\n",
    "print(f'Mean elapsed time {mean_elapse_time}s, for batch size {B}, original raft')"
   ],
   "metadata": {
    "collapsed": false
   }
  },
  {
   "cell_type": "code",
   "execution_count": 22,
   "outputs": [
    {
     "name": "stdout",
     "output_type": "stream",
     "text": [
      "Mean elapsed time 0.5494323372840881s, for batch size 7, original raft\n"
     ]
    }
   ],
   "source": [
    "B = 7\n",
    "\n",
    "im1_np = np.zeros((B, 3, 512, 512), np.float32)\n",
    "im2_np = np.zeros((B, 3, 512, 512), np.float32)\n",
    "\n",
    "im1 = torch.from_numpy(im1_np)\n",
    "im2 = torch.from_numpy(im2_np)\n",
    "\n",
    "padder = InputPadder(im1.shape, mode='sintel')\n",
    "im1, im2 = padder.pad(im1, im2)\n",
    "\n",
    "im1 = im1.to(device=device)\n",
    "im2 = im2.to(device=device)\n",
    "\n",
    "number_of_comp = 100\n",
    "\n",
    "# warm up\n",
    "for i in range(3):\n",
    "    all_predictions = raft(im1.to(device), im2.to(device), iters=args.iters, test_mode=True)\n",
    "\n",
    "st = time.time()\n",
    "for i in range(number_of_comp):\n",
    "    all_predictions = raft(im1.to(device), im2.to(device), iters=args.iters, test_mode=True)\n",
    "en = time.time()\n",
    "\n",
    "mean_elapse_time = (en - st) / number_of_comp\n",
    "print(f'Mean elapsed time {mean_elapse_time}s, for batch size {B}, original raft')"
   ],
   "metadata": {
    "collapsed": false
   }
  },
  {
   "cell_type": "code",
   "execution_count": null,
   "outputs": [],
   "source": [],
   "metadata": {
    "collapsed": false
   }
  }
 ],
 "metadata": {
  "kernelspec": {
   "display_name": "Python 3",
   "language": "python",
   "name": "python3"
  },
  "language_info": {
   "codemirror_mode": {
    "name": "ipython",
    "version": 2
   },
   "file_extension": ".py",
   "mimetype": "text/x-python",
   "name": "python",
   "nbconvert_exporter": "python",
   "pygments_lexer": "ipython2",
   "version": "2.7.6"
  }
 },
 "nbformat": 4,
 "nbformat_minor": 0
}
