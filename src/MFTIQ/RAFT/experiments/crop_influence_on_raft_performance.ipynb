{
 "cells": [
  {
   "cell_type": "code",
   "execution_count": 2,
   "metadata": {
    "collapsed": true
   },
   "outputs": [
    {
     "name": "stderr",
     "output_type": "stream",
     "text": [
      "/mnt/datagrid/personal/neoral/app/pytorch160python36cuda101/lib/python3.6/site-packages/pandas/compat/__init__.py:120: UserWarning: Could not import the lzma module. Your installed Python is incomplete. Attempting to use lzma compression will result in a RuntimeError.\n",
      "  warnings.warn(msg)\n"
     ]
    }
   ],
   "source": [
    "from __future__ import print_function, division\n",
    "import sys, os\n",
    "from collections import OrderedDict\n",
    "\n",
    "from RAFT.core.raft import RAFT\n",
    "import tqdm\n",
    "\n",
    "# sys.path.append('core')\n",
    "\n",
    "import argparse\n",
    "import os\n",
    "import numpy as np\n",
    "\n",
    "import torch\n",
    "import torch.nn as nn\n",
    "import torch.optim as optim\n",
    "\n",
    "from RAFT.core.datasets import MpiSintel, KubricDataset, KITTI\n",
    "from RAFT.core.utils import flow_viz\n",
    "from RAFT.core.utils.utils import InputPadder, InputCropAndResize\n",
    "from RAFT.core.utils.flow_viz import flow_to_color\n",
    "import einops\n",
    "\n",
    "from RAFT.core.utils.statistics import CombinedStatistics\n",
    "import pandas as pd\n",
    "import cv2\n",
    "import matplotlib.pyplot as plt\n",
    "import scipy\n",
    "from skimage.metrics import structural_similarity as ssim\n",
    "\n",
    "%load_ext autoreload\n",
    "%autoreload 2\n",
    "\n",
    "os.chdir('/mnt/datagrid/personal/neoral/repos/raft_new_debug/RAFT/')\n",
    "\n",
    "\n",
    "def mkdir_if_not_exist(path):\n",
    "    if not os.path.isdir(path):\n",
    "        os.makedirs(path)\n",
    "\n",
    "def mkdir_from_full_file_path_if_not_exist(path):\n",
    "    basename = os.path.basename(path)\n",
    "    mkdir_if_not_exist(path[:-len(basename)])\n",
    "\n",
    "class AttrDict(dict):\n",
    "    def __init__(self, *args, **kwargs):\n",
    "        super(AttrDict, self).__init__(*args, **kwargs)\n",
    "        self.__dict__.update(kwargs)"
   ]
  },
  {
   "cell_type": "code",
   "execution_count": 3,
   "outputs": [
    {
     "name": "stdout",
     "output_type": "stream",
     "text": [
      "boruvka\n"
     ]
    }
   ],
   "source": [
    "myhost = os.uname()[1]\n",
    "print(myhost)"
   ],
   "metadata": {
    "collapsed": false
   }
  },
  {
   "cell_type": "code",
   "execution_count": 4,
   "outputs": [],
   "source": [
    "default_kwargs = {\n",
    "    'model': '/home.stud/neoramic/repos/raft_new_debug/RAFT/checkpoints/raft-things-sintel-kubric-splitted-occlusion-uncertainty-non-occluded-base-sintel.pth',\n",
    "    'save_path': '/datagrid/personal/neoral/RAFT_occl_uncertainty_outputs/statistics_occl',\n",
    "    'iters': 24,\n",
    "    'gpus': 2,\n",
    "    'debug': True,\n",
    "    'subsplit': None\n",
    "}\n",
    "args = AttrDict(**default_kwargs)"
   ],
   "metadata": {
    "collapsed": false
   }
  },
  {
   "cell_type": "code",
   "execution_count": 5,
   "outputs": [
    {
     "name": "stdout",
     "output_type": "stream",
     "text": [
      "200\n"
     ]
    }
   ],
   "source": [
    "device = f'cuda:{args.gpus}'\n",
    "\n",
    "raft_kwargs = {\n",
    "    'occlusion_module': 'separate_with_uncertainty',\n",
    "    'restore_ckpt': args.model,\n",
    "    'small': False,\n",
    "    'mixed_precision': False,\n",
    "}\n",
    "raft_params = AttrDict(**raft_kwargs)\n",
    "\n",
    "# Of course, you can use argparse instead of attr_dict\n",
    "raft = torch.nn.DataParallel(RAFT(raft_params))\n",
    "raft.load_state_dict(torch.load(args.model, map_location='cpu'))\n",
    "\n",
    "raft = raft.module\n",
    "raft.requires_grad_(False)\n",
    "raft.to(device)\n",
    "raft.eval()\n",
    "\n",
    "# DATASET WITH GT FLOW and OCCL\n",
    "# kubric_validation = KubricDataset(split='validation', load_occlusion=True, correct_flow=True)\n",
    "kitti = KITTI(split='training')\n",
    "sintel_clean = MpiSintel(split='training', dstype='clean', load_occlusion=True, subsplit=args.subsplit)\n",
    "sintel_final = MpiSintel(split='training', dstype='final', load_occlusion=True, subsplit=args.subsplit)\n",
    "\n",
    "subsplit_name = '' if args.subsplit is None else f'_{args.subsplit}'\n",
    "datasets = {\n",
    "            f'kitti': kitti,\n",
    "            f'sintel_final{subsplit_name}': sintel_final,\n",
    "\n",
    "            # 'kubric_val_corrected_flow': kubric_validation,\n",
    "            f'sintel_clean{subsplit_name}': sintel_clean,\n",
    "            }"
   ],
   "metadata": {
    "collapsed": false
   }
  },
  {
   "cell_type": "code",
   "execution_count": 45,
   "outputs": [],
   "source": [
    "class FlowEvaluator():\n",
    "    def __init__(self, name, n_zones=0):\n",
    "        self.name = name\n",
    "        self.n_zones = n_zones\n",
    "        self.epe_list = {k:[] for k in range(n_zones+1)}\n",
    "        self.fl_array_list = {k:[] for k in range(n_zones + 1)}\n",
    "\n",
    "    def __call__(self, *args, **kwargs):\n",
    "\n",
    "        data = OrderedDict()\n",
    "        for k in range(self.n_zones + 1):\n",
    "            name_epe = 'EPE (all)' if k == 0 else f'EPE (zone {k})'\n",
    "            data[name_epe] = np.array(self.epe_list[k]).mean()\n",
    "        for k in range(self.n_zones + 1):\n",
    "            name_fl = 'Fl (all)' if k == 0 else f'Fl (zone {k})'\n",
    "            data[name_fl] = np.concatenate(self.fl_array_list[k]).mean() * 100.0\n",
    "        return pd.DataFrame(data, index=[self.name])\n",
    "\n",
    "    def evaluate_flow_single(self, flow_est, flow_gt, valid, zone_mask=None):\n",
    "        epe = torch.sum((flow_est - flow_gt)**2, dim=0).sqrt()\n",
    "        mag = torch.sum(flow_gt**2, dim=0).sqrt()\n",
    "        epe = epe.view(-1)\n",
    "        mag = mag.view(-1)\n",
    "        if zone_mask is not None:\n",
    "            valid = zone_mask * valid\n",
    "        val = torch.reshape(valid, (-1,)) >= 0.5\n",
    "        fl = ((epe > 3.0) & ((epe/mag) > 0.05)).float()\n",
    "        epe_valid = epe[val].mean().item()\n",
    "        fl_valid_array = fl[val].cpu().numpy()\n",
    "        return epe_valid, fl_valid_array\n",
    "\n",
    "    def create_zone_mask(self, valid_mask, current_n_zone, max_n_zone):\n",
    "        # current_zone \"0\" covers whole image\n",
    "        if current_n_zone == 0:\n",
    "            return None, None\n",
    "        data_shape = einops.parse_shape(valid_mask, 'N C H W')\n",
    "        chunk_size_W = data_shape['W'] / (2 * max_n_zone)\n",
    "        ration_H = data_shape['W'] / data_shape['H']\n",
    "\n",
    "        X, Y = np.meshgrid(range(data_shape['W']), range(data_shape['H']))\n",
    "        X_template = np.minimum(X,np.flip(X, axis=1))\n",
    "        Y_template = np.minimum(Y,np.flip(Y,axis=0)) * ration_H\n",
    "        dist = np.minimum(X_template, Y_template)\n",
    "\n",
    "        zone_min = chunk_size_W * (current_n_zone - 1) if current_n_zone != 1 else -1\n",
    "        zone_max = chunk_size_W * (current_n_zone)\n",
    "        eval_zone_np = np.logical_and(dist > zone_min,  dist <= zone_max) * 1.0\n",
    "        # plt.imshow(eval_zone)\n",
    "        # plt.show()\n",
    "        eval_zone = torch.from_numpy(einops.rearrange(eval_zone_np, 'H W -> 1 1 H W')).to(valid_mask.device)\n",
    "        return eval_zone, eval_zone_np\n",
    "\n",
    "    def plot_template_mask_sample(self, shape, max_n_zone=None):\n",
    "        max_n_zone = self.n_zones if max_n_zone is None else max_n_zone\n",
    "        empty_image = torch.ones(shape)\n",
    "        print(empty_image.shape)\n",
    "        masks = [self.create_zone_mask(empty_image, current_n_zone=i, max_n_zone=max_n_zone)[1] * i for i in range(1, max_n_zone + 1)]\n",
    "        print(masks[0].shape)\n",
    "        template_mask = np.sum(np.stack(masks, axis=0), axis=0)\n",
    "        print(template_mask.shape)\n",
    "        plt.figure(figsize=(10,15))\n",
    "        plt.imshow(template_mask)\n",
    "        H, W = template_mask.shape\n",
    "        for i in range(1, max_n_zone + 1):\n",
    "            plt.text((i - 0.5) * W/(2 * max_n_zone), H/2,  str(i), fontsize=22)\n",
    "        plt.title('Area for evaluation')\n",
    "        plt.tight_layout()\n",
    "        plt.savefig('area.png')\n",
    "        plt.show()\n",
    "\n",
    "    def evaluate_flow(self, flow_est, flow_gt, valid):\n",
    "        if flow_est.ndim == 4:\n",
    "            flow_est = torch.squeeze(flow_est, 0)\n",
    "        if flow_gt.ndim == 4:\n",
    "            flow_gt = torch.squeeze(flow_gt, 0)\n",
    "\n",
    "        for k in range(self.n_zones + 1):\n",
    "            zone_mask = self.create_zone_mask(valid, k, self.n_zones)[0]\n",
    "            epe_valid, f1_valid_array = self.evaluate_flow_single(flow_est, flow_gt, valid, zone_mask=zone_mask)\n",
    "            self.epe_list[k].append(epe_valid)\n",
    "            self.fl_array_list[k].append(f1_valid_array)\n",
    "\n"
   ],
   "metadata": {
    "collapsed": false
   }
  },
  {
   "cell_type": "code",
   "execution_count": 46,
   "outputs": [
    {
     "name": "stdout",
     "output_type": "stream",
     "text": [
      "Processing dataset kitti:\n",
      "torch.Size([1, 1, 480, 1024])\n",
      "(480, 1024)\n",
      "(480, 1024)\n"
     ]
    },
    {
     "data": {
      "text/plain": "<Figure size 720x1080 with 1 Axes>",
      "image/png": "[encoded data removed]"
     },
     "metadata": {
      "needs_background": "light"
     },
     "output_type": "display_data"
    },
    {
     "name": "stderr",
     "output_type": "stream",
     "text": [
      "100%|██████████| 200/200 [03:50<00:00,  1.15s/it]\n"
     ]
    },
    {
     "name": "stdout",
     "output_type": "stream",
     "text": [
      "Processing dataset sintel_final:\n",
      "torch.Size([1, 1, 480, 1024])\n",
      "(480, 1024)\n",
      "(480, 1024)\n"
     ]
    },
    {
     "data": {
      "text/plain": "<Figure size 720x1080 with 1 Axes>",
      "image/png": "[encoded data removed]"
     },
     "metadata": {
      "needs_background": "light"
     },
     "output_type": "display_data"
    },
    {
     "name": "stderr",
     "output_type": "stream",
     "text": [
      "100%|██████████| 1041/1041 [19:27<00:00,  1.12s/it]\n"
     ]
    },
    {
     "name": "stdout",
     "output_type": "stream",
     "text": [
      "Processing dataset sintel_clean:\n",
      "torch.Size([1, 1, 480, 1024])\n",
      "(480, 1024)\n",
      "(480, 1024)\n"
     ]
    },
    {
     "data": {
      "text/plain": "<Figure size 720x1080 with 1 Axes>",
      "image/png": "[encoded data removed]"
     },
     "metadata": {
      "needs_background": "light"
     },
     "output_type": "display_data"
    },
    {
     "name": "stderr",
     "output_type": "stream",
     "text": [
      "100%|██████████| 1041/1041 [17:31<00:00,  1.01s/it]\n"
     ]
    }
   ],
   "source": [
    "unvalidate_borders_px = 0\n",
    "normalise_input = True\n",
    "\n",
    "n_zones = 4\n",
    "df_list = []\n",
    "\n",
    "for dataset_name, data in datasets.items():\n",
    "    print(f'Processing dataset {dataset_name}:')\n",
    "\n",
    "    FE_full = FlowEvaluator(name='Full image (cropped for eval)', n_zones=n_zones)\n",
    "    FE_full.plot_template_mask_sample([1, 1, 480, 1024])\n",
    "    FE_crop = FlowEvaluator(name='Cropped image', n_zones=n_zones)\n",
    "    FE_crop_up = FlowEvaluator(name='Upsize image', n_zones=n_zones)\n",
    "\n",
    "    for idx in tqdm.trange(len(data)):\n",
    "\n",
    "        # IM LOADING\n",
    "        im1o, im2o, flow_gt, valid, occl_gt = data[idx]\n",
    "        c_im1_path = data.get_reference_frame_path(idx, relative=True)\n",
    "\n",
    "        im1o = torch.unsqueeze(im1o, 0)\n",
    "        im2o = torch.unsqueeze(im2o, 0)\n",
    "        flow_gto = torch.unsqueeze(flow_gt, 0)\n",
    "        valid_gto = torch.unsqueeze(valid, 0)\n",
    "\n",
    "        cropper = InputCropAndResize(scale=0.5)\n",
    "        im1_crop, im2_crop, flow_gt_crop, valid_gt_crop = cropper.crop(im1o, im2o, flow_gto, valid_gto)\n",
    "\n",
    "        if unvalidate_borders_px != 0:\n",
    "            valid_gt_crop[:,:,:unvalidate_borders_px,:] = 0.\n",
    "            valid_gt_crop[:,:,-unvalidate_borders_px:,:]= 0.\n",
    "            valid_gt_crop[:,:,:,:unvalidate_borders_px]= 0.\n",
    "            valid_gt_crop[:,:,:,-unvalidate_borders_px:]=0.\n",
    "\n",
    "\n",
    "        # RAFT FULL (CROP AFTER, FOR COMPARISON)\n",
    "        padder = InputPadder(im1o.shape, mode='sintel' if dataset_name != 'kitti' else 'kitti')\n",
    "        im1_pad, im2_pad = padder.pad(im1o, im2o)\n",
    "        # print('input: ', im1_crop_pad.shape)\n",
    "        predictions_pad = raft(im1_pad.to(device), im2_pad.to(device), iters=args.iters, test_mode=True, normalise_input=normalise_input)\n",
    "        flow_pred = padder.unpad(predictions_pad['flow'])\n",
    "        flow_pred = torch.squeeze(cropper.crop(flow_pred)[0], dim=0).detach().cpu()\n",
    "\n",
    "\n",
    "        # RAFT FOR CROP\n",
    "        padder_crop = InputPadder(im1_crop.shape, mode='sintel' if dataset_name != 'kitti' else 'kitti')\n",
    "        im1_crop_pad, im2_crop_pad = padder_crop.pad(im1_crop, im2_crop)\n",
    "        # print('input: ', im1_crop_pad.shape)\n",
    "        predictions_crop_pad = raft(im1_crop_pad.to(device), im2_crop_pad.to(device), iters=args.iters, test_mode=True, normalise_input=normalise_input)\n",
    "        flow_crop_pred = torch.squeeze(padder_crop.unpad(predictions_crop_pad['flow']), dim=0).detach().cpu()\n",
    "\n",
    "\n",
    "        # RAFT FOR CROP UPSCALE\n",
    "        im1_crop_up, im2_crop_up = cropper.upsize(im1_crop, im2_crop)\n",
    "        padder_crop_up = InputPadder(im1_crop_up.shape, mode='sintel' if dataset_name != 'kitti' else 'kitti')\n",
    "        im1_crop_up_pad, im2_crop_up_pad = padder_crop_up.pad(im1_crop_up, im2_crop_up)\n",
    "        # print('input: ', im1_crop_up_pad.shape)\n",
    "        predictions_crop_up_pad = raft(im1_crop_up_pad.to(device), im2_crop_up_pad.to(device), iters=args.iters, test_mode=True, normalise_input=normalise_input)\n",
    "        flow_crop_up_pred = padder_crop_up.unpad(predictions_crop_up_pad['flow'])\n",
    "        flow_crop_up_pred = torch.squeeze(cropper.downsize_flow(flow_crop_up_pred)[0], dim=0).detach().cpu()\n",
    "\n",
    "\n",
    "        # print(flow_crop_up_pred.shape)\n",
    "        # print(flow_crop_pred.shape, flow_gt.shape)\n",
    "        # print(flow_gto.shape, flow_gt_crop.shape)\n",
    "        #\n",
    "        # plt.figure(figsize=(15,8))\n",
    "        # plt.imshow(flow_gt_crop.cpu().detach().numpy()[0][0])\n",
    "        # plt.colorbar()\n",
    "        # plt.show()\n",
    "        #\n",
    "        # plt.figure(figsize=(15,8))\n",
    "        # plt.imshow(flow_pred.cpu().detach().numpy()[0])\n",
    "        # plt.colorbar()\n",
    "        # plt.show()\n",
    "        #\n",
    "        # plt.figure(figsize=(15,8))\n",
    "        # plt.imshow(flow_crop_pred.cpu().detach().numpy()[0])\n",
    "        # plt.colorbar()\n",
    "        # plt.show()\n",
    "        #\n",
    "        # plt.figure(figsize=(15,8))\n",
    "        # plt.imshow(flow_crop_up_pred.cpu().detach().numpy()[0])\n",
    "        # plt.colorbar()\n",
    "        # plt.show()\n",
    "\n",
    "        FE_full.evaluate_flow(flow_pred, flow_gt_crop, valid_gt_crop)\n",
    "        FE_crop.evaluate_flow(flow_crop_pred, flow_gt_crop, valid_gt_crop)\n",
    "        FE_crop_up.evaluate_flow(flow_crop_up_pred, flow_gt_crop, valid_gt_crop)\n",
    "\n",
    "        # if args.debug:\n",
    "        #     if idx >= 0:\n",
    "        #         break\n",
    "\n",
    "    c_orig_df = FE_full()\n",
    "    c_crop_df = FE_crop()\n",
    "    c_upsize_df = FE_crop_up()\n",
    "    df_list.append(pd.concat([pd.concat([c_orig_df, c_crop_df, c_upsize_df])], keys=[f'{dataset_name} ({im1_crop.shape[2]}x{im1_crop.shape[3]})']))\n",
    "\n",
    "\n",
    "    # epe = np.mean(epe_list_crop_eval)\n",
    "    # print(np.mean(epe))\n",
    "    # if args.debug:\n",
    "    #     break"
   ],
   "metadata": {
    "collapsed": false
   }
  },
  {
   "cell_type": "code",
   "execution_count": 8,
   "outputs": [
    {
     "data": {
      "text/plain": "<matplotlib.image.AxesImage at 0x7f263e57b2b0>"
     },
     "execution_count": 8,
     "metadata": {},
     "output_type": "execute_result"
    },
    {
     "data": {
      "text/plain": "<Figure size 432x288 with 1 Axes>",
      "image/png": "[encoded data removed]"
     },
     "metadata": {
      "needs_background": "light"
     },
     "output_type": "display_data"
    }
   ],
   "source": [
    "# test_map = np.zeros([200,400])\n",
    "# X, Y = np.meshgrid(range(400), range(200))\n",
    "# test_img_map = np.minimum(np.minimum(X,np.flip(X, axis=1)),np.minimum(Y,np.flip(Y,axis=0)))\n",
    "# test_img_map = np.logical_and(test_img_map > 0,  test_img_map <= 25)\n",
    "# plt.imshow(test_img_map)"
   ],
   "metadata": {
    "collapsed": false
   }
  },
  {
   "cell_type": "code",
   "execution_count": 49,
   "outputs": [
    {
     "name": "stdout",
     "output_type": "stream",
     "text": [
      "\\begin{tabular}{llrrrrrrrrrr}\n",
      "\\toprule\n",
      "                       &              &  EPE (all) &  EPE (zone 1) &  EPE (zone 2) &  EPE (zone 3) &  EPE (zone 4) &  Fl (all) &  Fl (zone 1) &  Fl (zone 2) &  Fl (zone 3) &  Fl (zone 4) \\\\\n",
      "\\midrule\n",
      "kitti (188x620) & Full image (cropped for eval) &       0.73 &          0.89 &          0.69 &          0.51 &          0.47 &      2.75 &         3.76 &         2.79 &         1.43 &         0.57 \\\\\n",
      "                       & Cropped image &       1.01 &          1.49 &          0.74 &          0.52 &          0.50 &      4.89 &         8.65 &         3.17 &         1.52 &         0.72 \\\\\n",
      "                       & Upsize image &       0.92 &          1.39 &          0.65 &          0.46 &          0.48 &      4.09 &         7.30 &         2.43 &         1.46 &         0.61 \\\\\n",
      "sintel\\_final (218x512) & Full image (cropped for eval) &       1.14 &          1.12 &          1.22 &          1.09 &          1.01 &      5.30 &         4.93 &         5.65 &         5.58 &         5.35 \\\\\n",
      "                       & Cropped image &       1.55 &          1.83 &          1.43 &          1.19 &          1.08 &      7.18 &         8.21 &         6.61 &         6.10 &         5.87 \\\\\n",
      "                       & Upsize image &       1.93 &          2.12 &          1.88 &          1.65 &          1.62 &      6.99 &         7.60 &         6.61 &         6.39 &         6.30 \\\\\n",
      "sintel\\_clean (218x512) & Full image (cropped for eval) &       0.71 &          0.67 &          0.76 &          0.71 &          0.66 &      3.31 &         3.03 &         3.57 &         3.48 &         3.56 \\\\\n",
      "                       & Cropped image &       1.11 &          1.36 &          1.00 &          0.81 &          0.72 &      4.81 &         5.76 &         4.27 &         3.77 &         3.81 \\\\\n",
      "                       & Upsize image &       1.28 &          1.55 &          1.23 &          0.90 &          0.80 &      3.99 &         4.69 &         3.63 &         3.19 &         3.09 \\\\\n",
      "\\bottomrule\n",
      "\\end{tabular}\n",
      "\n"
     ]
    }
   ],
   "source": [
    "df_all = pd.concat(df_list)\n",
    "pd.set_option(\"display.precision\", 2)\n",
    "\n",
    "print(df_all.to_latex())"
   ],
   "metadata": {
    "collapsed": false
   }
  },
  {
   "cell_type": "code",
   "execution_count": null,
   "outputs": [],
   "source": [
    "plt.figure(figsize=(15,8))\n",
    "plt.imshow(flow_gt_crop.cpu().detach().numpy()[0][0])\n",
    "plt.colorbar()\n",
    "plt.show()\n",
    "\n",
    "plt.figure(figsize=(15,8))\n",
    "plt.imshow(flow_pred.cpu().detach().numpy()[0])\n",
    "plt.colorbar()\n",
    "plt.show()\n",
    "\n",
    "plt.figure(figsize=(15,8))\n",
    "plt.imshow(flow_crop_pred.cpu().detach().numpy()[0])\n",
    "plt.colorbar()\n",
    "plt.show()\n",
    "\n",
    "plt.figure(figsize=(15,8))\n",
    "plt.imshow(flow_crop_up_pred.cpu().detach().numpy()[0])\n",
    "plt.colorbar()\n",
    "plt.show()\n",
    "\n",
    "\n",
    "plt.figure(figsize=(15,8))\n",
    "plt.imshow(valid_gt_crop.cpu().detach().numpy()[0][0])\n",
    "plt.colorbar()\n",
    "plt.show()\n",
    "\n"
   ],
   "metadata": {
    "collapsed": false
   }
  },
  {
   "cell_type": "code",
   "execution_count": null,
   "outputs": [],
   "source": [
    "flow_crop_up_pred.cpu().detach().numpy()[0].shape"
   ],
   "metadata": {
    "collapsed": false
   }
  },
  {
   "cell_type": "code",
   "execution_count": null,
   "outputs": [],
   "source": [
    "epe = np.mean(np.concatenate(epe_list))"
   ],
   "metadata": {
    "collapsed": false
   }
  },
  {
   "cell_type": "code",
   "execution_count": null,
   "outputs": [],
   "source": [
    "valid_gt_crop.shape"
   ],
   "metadata": {
    "collapsed": false
   }
  },
  {
   "cell_type": "code",
   "execution_count": null,
   "outputs": [],
   "source": [],
   "metadata": {
    "collapsed": false
   }
  }
 ],
 "metadata": {
  "kernelspec": {
   "display_name": "Python 3",
   "language": "python",
   "name": "python3"
  },
  "language_info": {
   "codemirror_mode": {
    "name": "ipython",
    "version": 2
   },
   "file_extension": ".py",
   "mimetype": "text/x-python",
   "name": "python",
   "nbconvert_exporter": "python",
   "pygments_lexer": "ipython2",
   "version": "2.7.6"
  }
 },
 "nbformat": 4,
 "nbformat_minor": 0
}
